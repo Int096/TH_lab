{
 "cells": [
  {
   "cell_type": "markdown",
   "id": "24a2ad06-db19-4b86-b216-90a8e8927e76",
   "metadata": {},
   "source": [
    "# Обработка данных, полученных в китайском эксперименте с квантовыми точками\n",
    "\n",
    "### Необходимые для расчета величины:\n",
    "- [X] Trace для КТ\n",
    "- [X] Бинирование данных\n",
    "- [ ] Данные для диаграммы \"ON/OFF\"\n",
    "- [ ] Корреляционная функция\n",
    "- [ ] Данные для диаграммы FLID. 1000 фотонов\n",
    "- [ ] Данные для диаграммы FLID. Как в лебеге\n",
    "\n",
    "### Необходимые в качестве результата графики:\n",
    "- [X] Trace plot\n",
    "- [ ] Intensity histogram\n",
    "- [ ] \"ON/OFF\" diagram\n",
    "- [ ] Correlate function plot\n",
    "- [ ] FLID, 1000\n",
    "- [ ] FLID, Lebeg"
   ]
  },
  {
   "cell_type": "markdown",
   "id": "3729d4f9-96f0-4aac-895b-933b84a4cf3f",
   "metadata": {},
   "source": [
    "## Вспомогательные по отношению к обработке данных методы и структуры данных"
   ]
  },
  {
   "cell_type": "code",
   "execution_count": null,
   "id": "8fcd0296-c635-494e-93fa-5b63cbb709bf",
   "metadata": {},
   "outputs": [],
   "source": [
    "using BenchmarkTools\n",
    "using CairoMakie\n",
    "using Statistics"
   ]
  },
  {
   "cell_type": "code",
   "execution_count": null,
   "id": "b33f3254-5ad5-4e13-92c2-931ce01e13c1",
   "metadata": {},
   "outputs": [],
   "source": [
    "struct ParsedData \n",
    "    channel::Vector\n",
    "    delays::Vector\n",
    "    arrivals::Vector\n",
    "end\n",
    "\n",
    "struct BinnedData\n",
    "    intensity::Vector\n",
    "    index_min::Vector\n",
    "    index_max::Vector\n",
    "end"
   ]
  },
  {
   "cell_type": "markdown",
   "id": "5d3abe46-9ef7-498f-abf7-c19864a89613",
   "metadata": {},
   "source": [
    "## Подготовка данных\n",
    "### Парсинг данных из исходников\n",
    "\n",
    "Исходные файлы приходят в виде бинарных слов, состоящих из 32-битных слов. Данные начинаются со слова **EB 90 B7 13**, а заканчиваются словом **EE EE DD DD**. \n",
    "\n",
    "Структура 32-битного слова следующая:\n",
    "| control_bit (1 bit) | channel (6 bit) | delays (15 bit) | SPSN (10 bit) |\n",
    "| ---- | ---- | ---- | ---- |\n",
    "| 0: в слове информация о фотонах  | Номер канала | Задержка относительно синхроимпульса | Номер синхроимпульса |\n",
    "| 1: в слове информация о переполнении SPSN | 111111 | All 0 | Количество переполнений |"
   ]
  },
  {
   "cell_type": "code",
   "execution_count": null,
   "id": "86d06021-acfc-4f03-8cb0-ea0da4a6e3d2",
   "metadata": {},
   "outputs": [],
   "source": [
    "DataReadFromFile(path::String) = hton.(reinterpret(UInt32, read(path)));"
   ]
  },
  {
   "cell_type": "code",
   "execution_count": null,
   "id": "f13e7dbe-15d3-4514-bd19-eae77b988c9a",
   "metadata": {},
   "outputs": [],
   "source": [
    "function ParsingData(source_data::Vector{UInt32})\n",
    "    # Разбор 32-битных слов на компоненты\n",
    "    control_bit = UInt8.((source_data .>> 31) .& 0x01)\n",
    "    channel     = UInt8.((source_data .>> 25) .& 0x3F)\n",
    "    delays      = UInt64.((source_data .>> 10) .& 0x7FFF)\n",
    "    impulse_num = UInt64.(source_data .& 0x3FF)\n",
    "\n",
    "    # Создание массива для корректировки переполнений\n",
    "    overflow_idxs = findall(==(1), control_bit)\n",
    "    overflow_diff = Statistics.diff(overflow_idxs) .- 1\n",
    "    overflow_vec  = collect(0 : length(overflow_diff)-1)\n",
    "\n",
    "    overflow = Vector{UInt64}(undef, sum(overflow_diff))\n",
    "    i = 1\n",
    "    @inbounds for j in eachindex(overflow_vec)\n",
    "        value   = overflow_vec[j]\n",
    "        repeats = overflow_diff[j]\n",
    "        for k in 1 : repeats\n",
    "            overflow[i] = value\n",
    "            i += 1\n",
    "        end\n",
    "    end\n",
    "    overflow .*= 1023\n",
    "\n",
    "    arrivals = impulse_num\n",
    "\n",
    "    # Удаление битов с control_bit = 1\n",
    "    mask = ones(Bool, length(control_bit))\n",
    "    mask[overflow_idxs] .= false\n",
    "\n",
    "    channel  = channel[mask]\n",
    "    delays   = delays[mask]\n",
    "    arrivals = arrivals[mask]\n",
    "    impulse_num = impulse_num[mask]\n",
    "\n",
    "    # Корректировка битов переполнения и задержек\n",
    "    impulse_num .+= overflow\n",
    "    delays .*= 64\n",
    "\n",
    "    # Формирование arrivals массива\n",
    "    time_between = maximum(delays)\n",
    "    arrivals = (delays .+ impulse_num .* UInt64(time_between)) .* 1e-12\n",
    "    arrivals .-= arrivals[1]\n",
    "    delays = delays .* 1e-12\n",
    "\n",
    "    # Сортировка\n",
    "    perm = sortperm(arrivals)\n",
    "    delays = delays[perm]\n",
    "    channel = channel[perm]\n",
    "    \n",
    "    return ParsedData(channel, delays, arrivals)\n",
    "end;"
   ]
  },
  {
   "cell_type": "markdown",
   "id": "ec2270ea-9500-45ba-a0c6-5757bb4167c4",
   "metadata": {},
   "source": [
    "### Бинирование данных"
   ]
  },
  {
   "cell_type": "code",
   "execution_count": null,
   "id": "e0f07112-06a2-45aa-a90d-676c606b1530",
   "metadata": {},
   "outputs": [],
   "source": [
    "function BinningData(arrivals::Vector{Float64}, bin_size::Float64)\n",
    "    nums_of_bin = UInt32(arrivals[end] ÷ bin_size)\n",
    "    nums_of_arrivals = length(arrivals)\n",
    "\n",
    "    intensity = Vector{UInt32}(undef, nums_of_bin)\n",
    "    index_min = Vector{UInt32}(undef, nums_of_bin)\n",
    "    index_max = Vector{UInt32}(undef, nums_of_bin)\n",
    "\n",
    "    count = 0\n",
    "    for j in 1:nums_of_bin\n",
    "        if j == 1\n",
    "            index_min[j] = 1\n",
    "            count = 1\n",
    "        else\n",
    "            index_min[j] = index_max[j-1] + 1\n",
    "            count = index_min[j]\n",
    "        end\n",
    "\n",
    "        while arrivals[count] < j*bin_size\n",
    "            count += 1\n",
    "            if count + 1 > nums_of_arrivals\n",
    "                break\n",
    "            end\n",
    "        end\n",
    "\n",
    "        if count == index_min[j]\n",
    "            intensity[j] = 0\n",
    "            index_max[j] = index_min[j] - 1\n",
    "        else\n",
    "            index_max[j] = count - 1\n",
    "            intensity[j] = index_max[j] - index_min[j] + 1\n",
    "        end\n",
    "    end\n",
    "\n",
    "    return BinnedData(intensity, index_min, index_max)\n",
    "end;"
   ]
  },
  {
   "cell_type": "code",
   "execution_count": null,
   "id": "3b5ea5e6-f430-4cf6-bb6b-adb9bd84db73",
   "metadata": {},
   "outputs": [],
   "source": [
    "function ON_OFF_Analyse(intensity::Vector{UInt32}, bin_size::Float64, level::Float64)\n",
    "    bound = level * maximum(intensity)\n",
    "\n",
    "    n = length(intensity)\n",
    "    ON_time = Vector{Float64}(undef, n)\n",
    "    OFF_time = Vector{Float64}(undef, n)\n",
    "\n",
    "    ON_or_OFF_flag = true\n",
    "    time = 0\n",
    "\n",
    "    for (index, bin_intensity) in enumerate(intensity)\n",
    "        if bin_intensity < bound\n",
    "            if ON_or_OFF_flag == true\n",
    "                ON_time[index] = time\n",
    "                time = 0\n",
    "            end\n",
    "            ON_or_OFF_flag = false\n",
    "        end\n",
    "    end\n",
    "end;"
   ]
  },
  {
   "cell_type": "code",
   "execution_count": null,
   "id": "ec130f0b-8154-4282-a86b-33cbe7a46a97",
   "metadata": {},
   "outputs": [],
   "source": [
    "function CalculateCorrelateFunction(parsed_data::ParsedData, intensity::Vector{UIn32})\n",
    "    arrivals = parsed_data.arrivals\n",
    "    delays   = parsed_data.delays\n",
    "    channel  = parsed_data.channel\n",
    "\n",
    "    ch1 = arrivals(channel .== 0)\n",
    "    ch2 = arrivals(channel .== 1)\n",
    "\n",
    "    println(length(arrivlas))\n",
    "    ptintln(length(ch1) + length(ch2))\n",
    "end"
   ]
  },
  {
   "cell_type": "markdown",
   "id": "4fb7aa78-8e7c-4449-8a0e-3526948b664a",
   "metadata": {},
   "source": [
    "### Построение Trace plot"
   ]
  },
  {
   "cell_type": "code",
   "execution_count": null,
   "id": "9d4155a4-f7fb-4a6f-87ff-af5bb0044c54",
   "metadata": {},
   "outputs": [],
   "source": [
    "function PlotterTrace(intensity::Vector{UInt32}, bin_size::Float64)\n",
    "    bin_size_ms = bin_size*1000\n",
    "    fig = Figure(size=(1500, 500), fontsize=24)\n",
    "    ax = Axis(fig[1, 1],\n",
    "              xlabel=\"Time, [s]\",\n",
    "              ylabel=\"Intensity, [counts/$bin_size_ms ms]\",\n",
    "              title=\"55 QD 622 nm in PPD\",\n",
    "              limits=(0, length(intensity)*bin_size, 0, 1.1*maximum(intensity))\n",
    "        )\n",
    "    times = range(0.0; step=bin_size, length=length(intensity)) |> collect\n",
    "\n",
    "    lines!(ax, times, intensity, color=:black)\n",
    "    fig        \n",
    "end"
   ]
  },
  {
   "cell_type": "markdown",
   "id": "c2d4236c-b9c2-4e35-9ad9-6044fd78c568",
   "metadata": {},
   "source": [
    "## Тест системы"
   ]
  },
  {
   "cell_type": "code",
   "execution_count": null,
   "id": "91556950-a52f-43fb-b4a9-2b4107bb0cb7",
   "metadata": {},
   "outputs": [],
   "source": []
  },
  {
   "cell_type": "code",
   "execution_count": null,
   "id": "7a06c3f0-0efc-4b65-a799-1e3fc4bf5c38",
   "metadata": {},
   "outputs": [],
   "source": [
    "data = DataReadFromFile(\"source_data/tests/1\");"
   ]
  },
  {
   "cell_type": "code",
   "execution_count": null,
   "id": "ad2a3792-28eb-49c1-84d2-9442476b7384",
   "metadata": {},
   "outputs": [],
   "source": [
    "parsed_data = ParsingData(data);"
   ]
  },
  {
   "cell_type": "code",
   "execution_count": null,
   "id": "b1034edf-7c24-4676-881a-0f05949ceda5",
   "metadata": {},
   "outputs": [],
   "source": [
    "binned_data = BinningData(parsed_data.arrivals, 0.001);"
   ]
  },
  {
   "cell_type": "code",
   "execution_count": null,
   "id": "a658efc8-542b-4f2f-bf67-bca495934079",
   "metadata": {},
   "outputs": [],
   "source": [
    "PlotterTrace(binned_data.intensity, 0.001)"
   ]
  },
  {
   "cell_type": "code",
   "execution_count": null,
   "id": "196affed-12bd-4163-9c15-63a510ca6584",
   "metadata": {},
   "outputs": [],
   "source": [
    "function DataProcessing(path::String)\n",
    "    bin_size = 0.001\n",
    "    \n",
    "    source_data = DataReadFromFile(path)\n",
    "    parsed_data = ParsingData(source_data)\n",
    "    binned_data = BinningData(parsed_data.arrivals, bin_size)\n",
    "end"
   ]
  },
  {
   "cell_type": "code",
   "execution_count": null,
   "id": "98ec37be-21cc-452b-8d3b-dfb244ccfe7b",
   "metadata": {},
   "outputs": [],
   "source": [
    "folder = \"source_data\"\n",
    "subfolder = \"tests\"\n",
    "file = \"1\"\n",
    "\n",
    "path = joinpath(folder, subfolder, file)\n",
    "\n",
    "DataProcessing(path)"
   ]
  },
  {
   "cell_type": "code",
   "execution_count": null,
   "id": "2dab7c8c-e0a0-41cc-a337-5ecb09fbf74b",
   "metadata": {},
   "outputs": [],
   "source": []
  },
  {
   "cell_type": "code",
   "execution_count": null,
   "id": "95b7bcf5-e303-437c-b80e-b8381f187526",
   "metadata": {},
   "outputs": [],
   "source": []
  }
 ],
 "metadata": {
  "kernelspec": {
   "display_name": "Julia 1.11.5",
   "language": "julia",
   "name": "julia-1.11"
  },
  "language_info": {
   "file_extension": ".jl",
   "mimetype": "application/julia",
   "name": "julia",
   "version": "1.11.5"
  }
 },
 "nbformat": 4,
 "nbformat_minor": 5
}
